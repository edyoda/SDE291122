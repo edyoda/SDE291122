{
  "nbformat": 4,
  "nbformat_minor": 0,
  "metadata": {
    "colab": {
      "provenance": [],
      "collapsed_sections": [
        "yWD9a8zR3y9Q",
        "WRcwcnTZ4aQb",
        "DJwwTxO_5AsW"
      ]
    },
    "kernelspec": {
      "name": "python3",
      "display_name": "Python 3"
    },
    "language_info": {
      "name": "python"
    }
  },
  "cells": [
    {
      "cell_type": "markdown",
      "source": [
        "# The main motivation behind the lambda expressions is the simplicity and practicality.\n",
        "Consider an operation that needs to be done once or very few times. Furthermore, we have many variations of this operation which are slightly different than the original one. In such case, it is not ideal to define a separate function for each operation. Instead, lambda expressions provide a much more efficient way of accomplishing the tasks.  \n",
        "\n",
        "One common use case for lambda expressions is that they can be passed as argument to another function. The map, reduce, and filter functions in Python are higher-order functions that can accept other functions as arguments.  \n",
        "\n",
        "The map, reduce, and filter functions in Python are higher-order functions that can accept other functions as arguments."
      ],
      "metadata": {
        "id": "HPXRZo0oDGEh"
      }
    },
    {
      "cell_type": "markdown",
      "source": [
        "# Lambda Functions"
      ],
      "metadata": {
        "id": "qaJbM4kW63D4"
      }
    },
    {
      "cell_type": "markdown",
      "source": [
        "## Basic Function"
      ],
      "metadata": {
        "id": "RRWef2A565VL"
      }
    },
    {
      "cell_type": "code",
      "source": [
        "def add( num ):  \n",
        "   return num + 4  \n",
        "print( add(6) )  "
      ],
      "metadata": {
        "colab": {
          "base_uri": "https://localhost:8080/"
        },
        "id": "zQcqjOo8DxfM",
        "outputId": "244d88c8-7b14-4ddf-b77a-c73822817cb7"
      },
      "execution_count": null,
      "outputs": [
        {
          "output_type": "stream",
          "name": "stdout",
          "text": [
            "10\n"
          ]
        }
      ]
    },
    {
      "cell_type": "markdown",
      "source": [
        "## Lambda Function"
      ],
      "metadata": {
        "id": "uiD8gLVa68lb"
      }
    },
    {
      "cell_type": "code",
      "source": [
        "add = lambda num: num + 4  \n",
        "print( add(6) )  "
      ],
      "metadata": {
        "colab": {
          "base_uri": "https://localhost:8080/"
        },
        "id": "m9mO3t-QD2nf",
        "outputId": "ad943e45-e606-456c-f3d5-1affb508188b"
      },
      "execution_count": null,
      "outputs": [
        {
          "output_type": "stream",
          "name": "stdout",
          "text": [
            "10\n"
          ]
        }
      ]
    },
    {
      "cell_type": "markdown",
      "source": [
        "## Using Lambda Function with if-else"
      ],
      "metadata": {
        "id": "JzUvWWeS9Afi"
      }
    },
    {
      "cell_type": "code",
      "source": [
        "def minumum(x,y):\n",
        "  if (x < y):\n",
        "    return x\n",
        "  else:\n",
        "    return y\n",
        "\n",
        "print(minumum( 35, 74 ))\n"
      ],
      "metadata": {
        "colab": {
          "base_uri": "https://localhost:8080/"
        },
        "id": "LSdGSCiyEBcZ",
        "outputId": "414bf9e7-c264-4660-d7a7-06377f45f866"
      },
      "execution_count": null,
      "outputs": [
        {
          "output_type": "stream",
          "name": "stdout",
          "text": [
            "35\n"
          ]
        }
      ]
    },
    {
      "cell_type": "code",
      "source": [
        "Minimum = lambda x, y : x if (x < y) else y  \n",
        "   \n",
        "print(Minimum( 35, 74 ))  "
      ],
      "metadata": {
        "colab": {
          "base_uri": "https://localhost:8080/"
        },
        "id": "pEFMtGTEEAeW",
        "outputId": "ac84f6eb-620e-471f-de76-8e58d8864cd6"
      },
      "execution_count": null,
      "outputs": [
        {
          "output_type": "stream",
          "name": "stdout",
          "text": [
            "35\n"
          ]
        }
      ]
    },
    {
      "cell_type": "markdown",
      "source": [
        "## The map, reduce, and filter functions in Python are higher-order functions that can accept other functions as arguments.*italicized text*"
      ],
      "metadata": {
        "id": "uDICqHBMFe6w"
      }
    },
    {
      "cell_type": "code",
      "source": [
        "a = [1, 3, 2, 6, 7, 4]"
      ],
      "metadata": {
        "id": "fQ5s5ZW0FiLN"
      },
      "execution_count": null,
      "outputs": []
    },
    {
      "cell_type": "code",
      "source": [
        "from functools import reduce\n",
        "reduce(lambda x, y: x*y, a)"
      ],
      "metadata": {
        "colab": {
          "base_uri": "https://localhost:8080/"
        },
        "id": "BaAggoR3FnFe",
        "outputId": "1de5592f-4d70-48fa-fc37-644de1a4ec77"
      },
      "execution_count": null,
      "outputs": [
        {
          "output_type": "execute_result",
          "data": {
            "text/plain": [
              "1008"
            ]
          },
          "metadata": {},
          "execution_count": 9
        }
      ]
    },
    {
      "cell_type": "code",
      "source": [
        "list(map(lambda x: x*x, a))"
      ],
      "metadata": {
        "colab": {
          "base_uri": "https://localhost:8080/"
        },
        "id": "X9YycDRJFltW",
        "outputId": "386ae497-e504-4c39-d156-b5c6fef83b72"
      },
      "execution_count": null,
      "outputs": [
        {
          "output_type": "execute_result",
          "data": {
            "text/plain": [
              "[1, 9, 4, 36, 49, 16]"
            ]
          },
          "metadata": {},
          "execution_count": 10
        }
      ]
    },
    {
      "cell_type": "code",
      "source": [
        "list(filter(lambda x: x > 4, a))"
      ],
      "metadata": {
        "colab": {
          "base_uri": "https://localhost:8080/"
        },
        "id": "aD5sSkAcFom0",
        "outputId": "b5d92a71-8190-4cfc-809d-ff366913789f"
      },
      "execution_count": null,
      "outputs": [
        {
          "output_type": "execute_result",
          "data": {
            "text/plain": [
              "[6, 7]"
            ]
          },
          "metadata": {},
          "execution_count": 11
        }
      ]
    },
    {
      "cell_type": "markdown",
      "source": [
        "# List Comprehension"
      ],
      "metadata": {
        "id": "5hAevSti36E4"
      }
    },
    {
      "cell_type": "markdown",
      "source": [
        "## Populate a list with a for loop"
      ],
      "metadata": {
        "id": "6iHAsgbj3I4m"
      }
    },
    {
      "cell_type": "code",
      "source": [
        "nums = [12, 8, 21, 3, 16]\n",
        "new_nums = []\n",
        "for num in nums:\n",
        "  new_nums.append(num + 1)\n",
        "print(new_nums)"
      ],
      "metadata": {
        "colab": {
          "base_uri": "https://localhost:8080/"
        },
        "id": "j0_0aIgJGsud",
        "outputId": "818892aa-98b9-439d-f88c-dc5d48e4d342"
      },
      "execution_count": null,
      "outputs": [
        {
          "output_type": "stream",
          "name": "stdout",
          "text": [
            "[13, 9, 22, 4, 17]\n"
          ]
        }
      ]
    },
    {
      "cell_type": "markdown",
      "source": [
        "## A list comprehension\n",
        "newlist = [expression for item in iterable if condition == True]"
      ],
      "metadata": {
        "id": "pBpI2F2k3gHm"
      }
    },
    {
      "cell_type": "code",
      "source": [
        "nums = [12, 8, 21, 3, 16]\n",
        "new_nums = [num + 1 for num in nums]\n",
        "print(new_nums)"
      ],
      "metadata": {
        "colab": {
          "base_uri": "https://localhost:8080/"
        },
        "id": "vrNEE0DWG4lE",
        "outputId": "cdcb3852-0bbd-4119-81f0-3015cad00c3d"
      },
      "execution_count": null,
      "outputs": [
        {
          "output_type": "stream",
          "name": "stdout",
          "text": [
            "[13, 9, 22, 4, 17]\n"
          ]
        }
      ]
    },
    {
      "cell_type": "markdown",
      "source": [
        "## List comprehension with range()"
      ],
      "metadata": {
        "id": "RSBoRjc03kiY"
      }
    },
    {
      "cell_type": "code",
      "source": [
        "result = [num for num in range(11)]\n",
        "print(result)"
      ],
      "metadata": {
        "colab": {
          "base_uri": "https://localhost:8080/"
        },
        "id": "F9umTXeRHANT",
        "outputId": "94c322e2-b1a2-49e5-d6d2-a9d502579dca"
      },
      "execution_count": null,
      "outputs": [
        {
          "output_type": "stream",
          "name": "stdout",
          "text": [
            "[0, 1, 2, 3, 4, 5, 6, 7, 8, 9, 10]\n"
          ]
        }
      ]
    },
    {
      "cell_type": "markdown",
      "source": [
        "## List comprehensions\n",
        "Collapse for loops for building lists into a single line  \n",
        "Components  \n",
        "- Iterable  \n",
        "- Iterator variable (represent members of iterable)  \n",
        "- Output expression  \n"
      ],
      "metadata": {
        "id": "dP7Cvt8S3ocy"
      }
    },
    {
      "cell_type": "code",
      "source": [
        "text = 'list COMPREHENSION is A way TO create LISTS'\n",
        "output = [len(word) for word in text.split() if word.islower()]"
      ],
      "metadata": {
        "id": "SPzz-SAUNyLE"
      },
      "execution_count": null,
      "outputs": []
    },
    {
      "cell_type": "markdown",
      "source": [
        "## Nested loops"
      ],
      "metadata": {
        "id": "69bvUIyN3wX_"
      }
    },
    {
      "cell_type": "code",
      "source": [
        "pairs_1 = []\n",
        "for num1 in range(0, 2):\n",
        "  for num2 in range(6, 8):\n",
        "    pairs_1.append((num1, num2))\n",
        "print(pairs_1)"
      ],
      "metadata": {
        "colab": {
          "base_uri": "https://localhost:8080/"
        },
        "id": "UDFMn7yXHKI4",
        "outputId": "b399749d-85ef-4883-c8ec-89e2e343a2b7"
      },
      "execution_count": null,
      "outputs": [
        {
          "output_type": "stream",
          "name": "stdout",
          "text": [
            "[(0, 6), (0, 7), (1, 6), (1, 7)]\n"
          ]
        }
      ]
    },
    {
      "cell_type": "code",
      "source": [
        "pairs_2 = [(num1, num2) for num1 in range(0, 2) for num2 in range(6, 8)]\n",
        "print(pairs_2)"
      ],
      "metadata": {
        "colab": {
          "base_uri": "https://localhost:8080/"
        },
        "id": "ZV2QSTEDHhuy",
        "outputId": "06180c3a-bbb2-4fe8-f596-50a8c09dd357"
      },
      "execution_count": null,
      "outputs": [
        {
          "output_type": "stream",
          "name": "stdout",
          "text": [
            "[(0, 6), (0, 7), (1, 6), (1, 7)]\n"
          ]
        }
      ]
    },
    {
      "cell_type": "markdown",
      "source": [
        "# Advanced comprehensions"
      ],
      "metadata": {
        "id": "yWD9a8zR3y9Q"
      }
    },
    {
      "cell_type": "markdown",
      "source": [
        "## Conditionals in comprehensions"
      ],
      "metadata": {
        "id": "OG0J7oG33-Op"
      }
    },
    {
      "cell_type": "code",
      "source": [
        "[num ** 2 for num in range(10) if num % 2 == 0]"
      ],
      "metadata": {
        "colab": {
          "base_uri": "https://localhost:8080/"
        },
        "id": "n4KH0-DWHny5",
        "outputId": "ab882392-eb47-4641-f06a-2206366082f2"
      },
      "execution_count": null,
      "outputs": [
        {
          "output_type": "execute_result",
          "data": {
            "text/plain": [
              "[0, 4, 16, 36, 64]"
            ]
          },
          "metadata": {},
          "execution_count": 21
        }
      ]
    },
    {
      "cell_type": "code",
      "source": [
        "[num ** 2 if num % 2 == 0 else 0 for num in range(10)]"
      ],
      "metadata": {
        "colab": {
          "base_uri": "https://localhost:8080/"
        },
        "id": "tIJtGklaH6uE",
        "outputId": "37df0207-1a50-4e0f-8327-26bfbf3b7ecf"
      },
      "execution_count": null,
      "outputs": [
        {
          "output_type": "execute_result",
          "data": {
            "text/plain": [
              "[0, 0, 4, 0, 16, 0, 36, 0, 64, 0]"
            ]
          },
          "metadata": {},
          "execution_count": 22
        }
      ]
    },
    {
      "cell_type": "markdown",
      "source": [
        "## Dict comprehensions"
      ],
      "metadata": {
        "id": "tM_O9lCc4Ck7"
      }
    },
    {
      "cell_type": "code",
      "source": [
        "pos_neg = {num: -num for num in range(9)}\n",
        "print(pos_neg)\n"
      ],
      "metadata": {
        "colab": {
          "base_uri": "https://localhost:8080/"
        },
        "id": "JLsnSaBZH-I3",
        "outputId": "2fa53b9c-d7cd-463d-92ed-e272b33a1120"
      },
      "execution_count": null,
      "outputs": [
        {
          "output_type": "stream",
          "name": "stdout",
          "text": [
            "{0: 0, 1: -1, 2: -2, 3: -3, 4: -4, 5: -5, 6: -6, 7: -7, 8: -8}\n"
          ]
        }
      ]
    },
    {
      "cell_type": "markdown",
      "source": [
        "# Generator expressions"
      ],
      "metadata": {
        "id": "WRcwcnTZ4aQb"
      }
    },
    {
      "cell_type": "markdown",
      "source": [
        "## Generator expressions"
      ],
      "metadata": {
        "id": "DiKQkdbo4eHi"
      }
    },
    {
      "cell_type": "code",
      "source": [
        "(2 * num for num in range(10))"
      ],
      "metadata": {
        "colab": {
          "base_uri": "https://localhost:8080/"
        },
        "id": "Qj7_K6KyIFjN",
        "outputId": "334a664e-7439-48a9-cf4c-2070adde16c4"
      },
      "execution_count": null,
      "outputs": [
        {
          "output_type": "execute_result",
          "data": {
            "text/plain": [
              "<generator object <genexpr> at 0x7f5f9d32f820>"
            ]
          },
          "metadata": {},
          "execution_count": 24
        }
      ]
    },
    {
      "cell_type": "markdown",
      "source": [
        "## Printing values from generators"
      ],
      "metadata": {
        "id": "EzzePSjE4iEn"
      }
    },
    {
      "cell_type": "code",
      "source": [],
      "metadata": {
        "id": "VmI0twE33KA5"
      },
      "execution_count": null,
      "outputs": []
    },
    {
      "cell_type": "markdown",
      "source": [
        "## Generator functions\n",
        "Produces generator objects when called  \n",
        "Defined like a regular function - def  \n",
        "Yields a sequence of values instead of returning a single value  \n",
        "Generates a value with yield keyword  "
      ],
      "metadata": {
        "id": "FkUcIKkT4shO"
      }
    },
    {
      "cell_type": "code",
      "source": [
        "result = (num for num in range(6))\n",
        "for num in result:\n",
        "  print(num)"
      ],
      "metadata": {
        "id": "XwbN9dP54vYB",
        "colab": {
          "base_uri": "https://localhost:8080/"
        },
        "outputId": "770a16a8-65a0-4fce-b396-72b5ca8dd787"
      },
      "execution_count": null,
      "outputs": [
        {
          "output_type": "stream",
          "name": "stdout",
          "text": [
            "0\n",
            "1\n",
            "2\n",
            "3\n",
            "4\n",
            "5\n"
          ]
        }
      ]
    },
    {
      "cell_type": "code",
      "source": [
        "result = (num for num in range(6))\n",
        "print(list(result))"
      ],
      "metadata": {
        "colab": {
          "base_uri": "https://localhost:8080/"
        },
        "id": "dszEk6AbINfM",
        "outputId": "71b4cbcc-8edf-4734-9eca-3e61c69cac2e"
      },
      "execution_count": null,
      "outputs": [
        {
          "output_type": "stream",
          "name": "stdout",
          "text": [
            "[0, 1, 2, 3, 4, 5]\n"
          ]
        }
      ]
    },
    {
      "cell_type": "code",
      "source": [
        "result = (num for num in range(6))"
      ],
      "metadata": {
        "id": "-lJtIcVGIRQx"
      },
      "execution_count": null,
      "outputs": []
    },
    {
      "cell_type": "code",
      "source": [
        "# Lazy evaluation\n",
        "print(next(result))"
      ],
      "metadata": {
        "colab": {
          "base_uri": "https://localhost:8080/"
        },
        "id": "j7wBhyWqIUDX",
        "outputId": "f5af5761-918c-4da8-ec08-1f56e222d14f"
      },
      "execution_count": null,
      "outputs": [
        {
          "output_type": "stream",
          "name": "stdout",
          "text": [
            "1\n"
          ]
        }
      ]
    },
    {
      "cell_type": "markdown",
      "source": [
        "## Generators vs list comprehensions"
      ],
      "metadata": {
        "id": "AaZB-kfjIX2Q"
      }
    },
    {
      "cell_type": "code",
      "source": [
        "# [n for n un range(10*1000000)]\n",
        "# (n for n un range(10*1000000))"
      ],
      "metadata": {
        "id": "Xr5gq8-GIZFd"
      },
      "execution_count": null,
      "outputs": []
    },
    {
      "cell_type": "code",
      "source": [
        "even_nums = (num for num in range(10) if num % 2 == 0)\n",
        "print(list(even_nums))\n"
      ],
      "metadata": {
        "colab": {
          "base_uri": "https://localhost:8080/"
        },
        "id": "x1DAdHwhIjPo",
        "outputId": "480b5c5c-5fd9-4c2f-ed04-aa96958f3b24"
      },
      "execution_count": null,
      "outputs": [
        {
          "output_type": "stream",
          "name": "stdout",
          "text": [
            "[0, 2, 4, 6, 8]\n"
          ]
        }
      ]
    },
    {
      "cell_type": "markdown",
      "source": [
        "# Re-cap: list comprehensions"
      ],
      "metadata": {
        "id": "DJwwTxO_5AsW"
      }
    },
    {
      "cell_type": "markdown",
      "source": [
        "### Basic\n",
        "[output expression for iterator variable in iterable]  \n",
        "### Advanced\n",
        "[output expression +  \n",
        "conditional on output for iterator variable in iterable +  \n",
        "conditional on iterable]  "
      ],
      "metadata": {
        "id": "LGtkfEEQ5HxZ"
      }
    },
    {
      "cell_type": "code",
      "source": [
        "h_letters = [ letter for letter in 'human' ]\n",
        "print( h_letters)"
      ],
      "metadata": {
        "id": "Yi0R6iv25FXh",
        "colab": {
          "base_uri": "https://localhost:8080/"
        },
        "outputId": "b16dd156-d3c5-44a2-8b66-13a7f6ddaec0"
      },
      "execution_count": null,
      "outputs": [
        {
          "output_type": "stream",
          "name": "stdout",
          "text": [
            "['h', 'u', 'm', 'a', 'n']\n"
          ]
        }
      ]
    },
    {
      "cell_type": "markdown",
      "source": [
        "## Using Lambda Function with List Comprehension"
      ],
      "metadata": {
        "id": "ccKv-QTa9FrP"
      }
    },
    {
      "cell_type": "code",
      "source": [],
      "metadata": {
        "id": "mA1cwUrD9Gg9"
      },
      "execution_count": null,
      "outputs": []
    }
  ]
}